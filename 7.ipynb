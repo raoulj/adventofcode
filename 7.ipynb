{
 "cells": [
  {
   "cell_type": "code",
   "execution_count": 1,
   "metadata": {},
   "outputs": [],
   "source": [
    "# Setup work \n",
    "\n",
    "# Get the data\n",
    "import requests\n",
    "r = requests.get('https://adventofcode.com/2018/day/7/input', cookies={\n",
    "    'session': '53616c7465645f5fa2ecece720654838baaaf96bc125b8893c564f010d5ad7a90b3dab0760aef0074c4a7ec162320c3e'\n",
    "})"
   ]
  },
  {
   "cell_type": "code",
   "execution_count": 2,
   "metadata": {},
   "outputs": [],
   "source": [
    "tmp = list(map(lambda x: x.split(' '), r.text.split('\\n')[:-1]))\n",
    "edges = list(map(lambda x: [x[1], x[7]], tmp))"
   ]
  },
  {
   "cell_type": "code",
   "execution_count": 3,
   "metadata": {},
   "outputs": [],
   "source": [
    "gprime = {}\n",
    "for edge in edges:\n",
    "    s = edge[0]\n",
    "    t = edge[1]\n",
    "    \n",
    "    if not t in gprime:\n",
    "        gprime[t] = []\n",
    "    gprime[t].append(s)\n",
    "\n",
    "from string import ascii_uppercase\n",
    "for letter in ascii_uppercase:\n",
    "    if not letter in gprime:\n",
    "        gprime[letter] = []"
   ]
  },
  {
   "cell_type": "code",
   "execution_count": 4,
   "metadata": {},
   "outputs": [],
   "source": [
    "# three times the charm\n",
    "def satisfied(gp, seen):\n",
    "    ret = []\n",
    "    for k, vs in gp.items():\n",
    "        if len([v for v in vs if v not in seen]) == 0:\n",
    "            if k not in seen:\n",
    "                ret.append(k)\n",
    "    return ret\n",
    "\n",
    "def trav(gp):\n",
    "    order = []\n",
    "    seen = set()\n",
    "    \n",
    "    while True:\n",
    "        candidates = satisfied(gp, seen)\n",
    "        \n",
    "        if len(candidates) == 0:\n",
    "            return order\n",
    "        \n",
    "        v = sorted(candidates, reverse=True).pop()\n",
    "        seen.add(v)\n",
    "        order.append(v)\n",
    "        \n",
    "po = trav(gprime)"
   ]
  },
  {
   "cell_type": "code",
   "execution_count": 5,
   "metadata": {},
   "outputs": [
    {
     "data": {
      "text/plain": [
       "'MNQKRSFWGXPZJCOTVYEBLAHIUD'"
      ]
     },
     "execution_count": 5,
     "metadata": {},
     "output_type": "execute_result"
    }
   ],
   "source": [
    "''.join(po)"
   ]
  },
  {
   "cell_type": "code",
   "execution_count": 41,
   "metadata": {},
   "outputs": [],
   "source": [
    "# PART B\n",
    "def satisfied2(gp, done, working):\n",
    "    ret = []\n",
    "    for k, vs in gp.items():\n",
    "        if len([v for v in vs if v not in done]) == 0:\n",
    "            if k not in done.union(working):\n",
    "                ret.append(k)\n",
    "    return ret\n",
    "\n",
    "def trav2(gp):    \n",
    "    done = set()\n",
    "    working = set()\n",
    "\n",
    "    t = 0\n",
    "    workers = [[] for i in range(5)]\n",
    "    def getDelay(node):\n",
    "        return ord(node) - 4\n",
    "                    \n",
    "    while True:\n",
    "        candidates = sorted(satisfied2(gp, done, working))\n",
    "        #assignWorkers\n",
    "        for c in candidates:\n",
    "            for i in range(len(workers)):\n",
    "                if len(workers[i]) == 0:\n",
    "                    working.add(c)\n",
    "                    workers[i] = [c, getDelay(c)]\n",
    "                    break\n",
    "        #tick\n",
    "        if len(done) == 26:\n",
    "            return t\n",
    "        t += 1\n",
    "        for i in range(len(workers)):\n",
    "            if len(workers[i]) > 0:\n",
    "                workers[i] = [workers[i][0], workers[i][1] -  1]\n",
    "                if workers[i][1] == 0:\n",
    "                    working.remove(workers[i][0])\n",
    "                    done.add(workers[i][0])\n",
    "                    workers[i] = []\n",
    "t = trav2(gprime)"
   ]
  },
  {
   "cell_type": "code",
   "execution_count": 42,
   "metadata": {},
   "outputs": [
    {
     "data": {
      "text/plain": [
       "948"
      ]
     },
     "execution_count": 42,
     "metadata": {},
     "output_type": "execute_result"
    }
   ],
   "source": [
    "t"
   ]
  },
  {
   "cell_type": "code",
   "execution_count": null,
   "metadata": {},
   "outputs": [],
   "source": []
  },
  {
   "cell_type": "code",
   "execution_count": null,
   "metadata": {},
   "outputs": [],
   "source": []
  }
 ],
 "metadata": {
  "kernelspec": {
   "display_name": "Python 3",
   "language": "python",
   "name": "python3"
  },
  "language_info": {
   "codemirror_mode": {
    "name": "ipython",
    "version": 3
   },
   "file_extension": ".py",
   "mimetype": "text/x-python",
   "name": "python",
   "nbconvert_exporter": "python",
   "pygments_lexer": "ipython3",
   "version": "3.6.5"
  }
 },
 "nbformat": 4,
 "nbformat_minor": 2
}
