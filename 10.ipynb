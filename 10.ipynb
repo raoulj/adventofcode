{
 "cells": [
  {
   "cell_type": "code",
   "execution_count": 1,
   "metadata": {},
   "outputs": [],
   "source": [
    "# Setup work \n",
    "\n",
    "# Get the data\n",
    "import requests\n",
    "r = requests.get('https://adventofcode.com/2018/day/10/input', cookies={\n",
    "    'session': '53616c7465645f5fa2ecece720654838baaaf96bc125b8893c564f010d5ad7a90b3dab0760aef0074c4a7ec162320c3e'\n",
    "})"
   ]
  },
  {
   "cell_type": "code",
   "execution_count": 2,
   "metadata": {},
   "outputs": [],
   "source": [
    "dset = r.text.split('\\n')[:-1]"
   ]
  },
  {
   "cell_type": "code",
   "execution_count": 3,
   "metadata": {},
   "outputs": [],
   "source": [
    "import re\n",
    "\n",
    "def make_ints(it):\n",
    "    return list(map(lambda x: int(x), it))\n",
    "\n",
    "data = []\n",
    "for d in dset:\n",
    "    m = re.match(\"position=<(.\\d+), (.\\d+)> velocity=<(.\\d+), (.\\d+)>\", d)\n",
    "    data.append(make_ints(m.group(1,2,3,4)))"
   ]
  },
  {
   "cell_type": "code",
   "execution_count": 42,
   "metadata": {},
   "outputs": [],
   "source": [
    "def getBounds(points):\n",
    "    minx = min(points, key=lambda x: x[0])[0]\n",
    "    maxx = max(points, key=lambda x: x[0])[0]\n",
    "    miny = min(points, key=lambda x: x[1])[1]\n",
    "    maxy = max(points, key=lambda x: x[1])[1]\n",
    "    return minx, maxx, miny, maxy\n",
    "\n",
    "def show(points):\n",
    "    minx, maxx, miny, maxy = getBounds(points)\n",
    "    \n",
    "    grid = [['.' for y in range(minx, maxx + 1)] for x in range(miny, maxy + 1)]\n",
    "    for point in points:\n",
    "        grid[point[1] - miny][point[0] - minx] = '#'\n",
    "    rows = list(map(lambda x: ''.join(x), grid))\n",
    "    picture = '\\n'.join(rows)\n",
    "    print(picture)"
   ]
  },
  {
   "cell_type": "code",
   "execution_count": 40,
   "metadata": {},
   "outputs": [],
   "source": [
    "def coords_for_time(data, t):\n",
    "    def coord_for_time(item, t):\n",
    "        return item[0] + item[2] * t, item[1] + item[3] * t\n",
    "    return list(map(lambda x: coord_for_time(x, t), data))"
   ]
  },
  {
   "cell_type": "code",
   "execution_count": 44,
   "metadata": {},
   "outputs": [
    {
     "data": {
      "text/plain": [
       "(10681, 549)"
      ]
     },
     "execution_count": 44,
     "metadata": {},
     "output_type": "execute_result"
    }
   ],
   "source": [
    "# find the time that minimizes the area -- that'll most likely have our text\n",
    "areas = []\n",
    "for t in range(9500, 12500):\n",
    "    info = coords_for_time(data, t)\n",
    "    minx, maxx, miny, maxy = getBounds(info)\n",
    "    areas.append((t, (maxx - minx) * (maxy - miny)))\n",
    "min(areas, key=lambda x: x[1])"
   ]
  },
  {
   "cell_type": "code",
   "execution_count": 45,
   "metadata": {},
   "outputs": [
    {
     "name": "stdout",
     "output_type": "stream",
     "text": [
      ".####...######.....###..#....#..#....#...####...#....#..######\n",
      "#....#..#...........#...#...#...#....#..#....#..#....#.......#\n",
      "#.......#...........#...#..#....#....#..#.......#....#.......#\n",
      "#.......#...........#...#.#.....#....#..#.......#....#......#.\n",
      "#.......#####.......#...##......######..#.......######.....#..\n",
      "#..###..#...........#...##......#....#..#..###..#....#....#...\n",
      "#....#..#...........#...#.#.....#....#..#....#..#....#...#....\n",
      "#....#..#.......#...#...#..#....#....#..#....#..#....#..#.....\n",
      "#...##..#.......#...#...#...#...#....#..#...##..#....#..#.....\n",
      ".###.#..######...###....#....#..#....#...###.#..#....#..######\n"
     ]
    }
   ],
   "source": [
    "info = coords_for_time(data, 10681)\n",
    "show(info)"
   ]
  }
 ],
 "metadata": {
  "kernelspec": {
   "display_name": "Python 3",
   "language": "python",
   "name": "python3"
  },
  "language_info": {
   "codemirror_mode": {
    "name": "ipython",
    "version": 3
   },
   "file_extension": ".py",
   "mimetype": "text/x-python",
   "name": "python",
   "nbconvert_exporter": "python",
   "pygments_lexer": "ipython3",
   "version": "3.6.5"
  }
 },
 "nbformat": 4,
 "nbformat_minor": 2
}
