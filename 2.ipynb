{
 "cells": [
  {
   "cell_type": "code",
   "execution_count": 1,
   "metadata": {},
   "outputs": [],
   "source": [
    "# Setup work \n",
    "\n",
    "# Get the data\n",
    "import requests\n",
    "r = requests.get('https://adventofcode.com/2018/day/2/input', cookies={\n",
    "    'session': '53616c7465645f5fa2ecece720654838baaaf96bc125b8893c564f010d5ad7a90b3dab0760aef0074c4a7ec162320c3e'\n",
    "})"
   ]
  },
  {
   "cell_type": "code",
   "execution_count": 2,
   "metadata": {},
   "outputs": [],
   "source": [
    "# Part 1\n",
    "codes = list(filter(len, r.text.split('\\n')))"
   ]
  },
  {
   "cell_type": "code",
   "execution_count": 3,
   "metadata": {},
   "outputs": [],
   "source": [
    "def string_to_letter_freq(s):\n",
    "    ret = {}\n",
    "    \n",
    "    for c in s:\n",
    "        if c not in ret:\n",
    "            ret[c] = 1\n",
    "        else:\n",
    "            ret[c] += 1\n",
    "    return ret"
   ]
  },
  {
   "cell_type": "code",
   "execution_count": 4,
   "metadata": {},
   "outputs": [],
   "source": [
    "def get_checksum(codes):\n",
    "    two_count = 0\n",
    "    three_count = 0\n",
    "\n",
    "    for code in codes:\n",
    "        counts = set(string_to_letter_freq(code).values())\n",
    "        if 2 in counts:\n",
    "            two_count += 1\n",
    "        if 3 in counts:\n",
    "            three_count += 1\n",
    "            \n",
    "    return two_count * three_count"
   ]
  },
  {
   "cell_type": "code",
   "execution_count": 5,
   "metadata": {},
   "outputs": [
    {
     "data": {
      "text/plain": [
       "6916"
      ]
     },
     "execution_count": 5,
     "metadata": {},
     "output_type": "execute_result"
    }
   ],
   "source": [
    "get_checksum(codes)"
   ]
  },
  {
   "cell_type": "code",
   "execution_count": 27,
   "metadata": {},
   "outputs": [],
   "source": [
    "# Part 2\n",
    "def remove_ith_char(s, i):\n",
    "    return s[:i] + s[i + 1:]\n",
    "\n",
    "def get_all_substrings_missing_letter(s):\n",
    "    new_strings = []\n",
    "    for i in range(len(s)):\n",
    "        if i > 0 and s[i] == s[i - 1]:\n",
    "            continue;\n",
    "        new_strings.append(remove_ith_char(s, i))\n",
    "    return new_strings\n",
    "\n",
    "def list_to_substrings(arr):\n",
    "    new_strings = []\n",
    "    for s in arr:\n",
    "        new_strings += get_all_substrings_missing_letter(s)\n",
    "    return new_strings\n",
    "\n",
    "def string_freqs_in_array(arr):\n",
    "    ret = {}\n",
    "    \n",
    "    for s in arr:\n",
    "        if s in ret:\n",
    "            ret[s] = ret[s] + 1\n",
    "        else:\n",
    "            ret[s] = 1\n",
    "    return ret\n",
    "\n",
    "candidates = list_to_substrings(codes)\n",
    "freqs = string_freqs_in_array(candidates)"
   ]
  },
  {
   "cell_type": "code",
   "execution_count": 30,
   "metadata": {},
   "outputs": [
    {
     "data": {
      "text/plain": [
       "('oeylbtcxjqnzhgyylfapviusr', 2)"
      ]
     },
     "execution_count": 30,
     "metadata": {},
     "output_type": "execute_result"
    }
   ],
   "source": [
    "max(list(freqs.items()), key=lambda x: x[1])"
   ]
  },
  {
   "cell_type": "code",
   "execution_count": 29,
   "metadata": {},
   "outputs": [
    {
     "data": {
      "text/plain": [
       "6436"
      ]
     },
     "execution_count": 29,
     "metadata": {},
     "output_type": "execute_result"
    }
   ],
   "source": []
  },
  {
   "cell_type": "code",
   "execution_count": null,
   "metadata": {},
   "outputs": [],
   "source": []
  }
 ],
 "metadata": {
  "kernelspec": {
   "display_name": "Python 3",
   "language": "python",
   "name": "python3"
  },
  "language_info": {
   "codemirror_mode": {
    "name": "ipython",
    "version": 3
   },
   "file_extension": ".py",
   "mimetype": "text/x-python",
   "name": "python",
   "nbconvert_exporter": "python",
   "pygments_lexer": "ipython3",
   "version": "3.6.5"
  }
 },
 "nbformat": 4,
 "nbformat_minor": 2
}
