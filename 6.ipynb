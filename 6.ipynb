{
 "cells": [
  {
   "cell_type": "code",
   "execution_count": 1,
   "metadata": {},
   "outputs": [],
   "source": [
    "# Setup work \n",
    "\n",
    "# Get the data\n",
    "import requests\n",
    "r = requests.get('https://adventofcode.com/2018/day/6/input', cookies={\n",
    "    'session': '53616c7465645f5fa2ecece720654838baaaf96bc125b8893c564f010d5ad7a90b3dab0760aef0074c4a7ec162320c3e'\n",
    "})"
   ]
  },
  {
   "cell_type": "code",
   "execution_count": 21,
   "metadata": {},
   "outputs": [],
   "source": [
    "coords = list(map(lambda x: x.split(','), r.text.split('\\n')[:-1]))\n",
    "coords = list(map(lambda x: (int(x[0]), int(x[1])), coords))"
   ]
  },
  {
   "cell_type": "code",
   "execution_count": 24,
   "metadata": {},
   "outputs": [],
   "source": [
    "minx = min(map(lambda x: x[0], coords))\n",
    "maxx = max(map(lambda x: x[0], coords))\n",
    "miny = min(map(lambda x: x[1], coords))\n",
    "maxy = max(map(lambda x: x[1], coords))"
   ]
  },
  {
   "cell_type": "code",
   "execution_count": 47,
   "metadata": {},
   "outputs": [],
   "source": [
    "def manhattan_distance(coord1, coord2):\n",
    "    return abs(coord1[0] - coord2[0]) + abs(coord1[1] - coord2[1])\n",
    "\n",
    "def get_closest_coord(x, y, coords):\n",
    "    bestCoord = False\n",
    "    equidistant = False\n",
    "    \n",
    "    for coord in coords:\n",
    "        if bestCoord == False:\n",
    "            bestCoord = coord\n",
    "        elif manhattan_distance((x,y), coord) < manhattan_distance((x,y), bestCoord):\n",
    "            bestCoord = coord\n",
    "            equidistant = False\n",
    "        elif manhattan_distance((x,y), coord) == manhattan_distance((x,y), bestCoord):\n",
    "            equidistant = True\n",
    "    \n",
    "    if equidistant:\n",
    "        return None\n",
    "    return bestCoord"
   ]
  },
  {
   "cell_type": "code",
   "execution_count": 48,
   "metadata": {},
   "outputs": [],
   "source": [
    "coord_to_size = {coord: 0 for coord in coords}\n",
    "\n",
    "for x in range(minx, maxx):\n",
    "    for y in range(miny, maxy):\n",
    "        closest = get_closest_coord(x, y, coords)\n",
    "        if closest != None:\n",
    "            coord_to_size[closest] += 1"
   ]
  },
  {
   "cell_type": "code",
   "execution_count": 49,
   "metadata": {},
   "outputs": [],
   "source": [
    "finite_coords = dict(coord_to_size)\n",
    "\n",
    "for x in range(minx, maxx):\n",
    "    infinite_coord = get_closest_coord(x, miny, coords)\n",
    "    finite_coords.pop(infinite_coord, None)\n",
    "    infinite_coord = get_closest_coord(x, maxy, coords)\n",
    "    finite_coords.pop(infinite_coord, None)\n",
    "    \n",
    "for y in range(miny, maxy):\n",
    "    infinite_coord = get_closest_coord(minx, y, coords)\n",
    "    finite_coords.pop(infinite_coord, None)\n",
    "    infinite_coord = get_closest_coord(maxx, y, coords)\n",
    "    finite_coords.pop(infinite_coord, None)"
   ]
  },
  {
   "cell_type": "code",
   "execution_count": 50,
   "metadata": {},
   "outputs": [
    {
     "data": {
      "text/plain": [
       "{(177, 248): 3969,\n",
       " (65, 135): 1380,\n",
       " (227, 116): 2073,\n",
       " (314, 164): 1889,\n",
       " (90, 266): 1309,\n",
       " (234, 219): 2306,\n",
       " (68, 121): 875,\n",
       " (168, 153): 1042,\n",
       " (126, 154): 2201,\n",
       " (236, 316): 1661,\n",
       " (180, 110): 2189,\n",
       " (256, 221): 2775,\n",
       " (235, 190): 2365,\n",
       " (168, 145): 1341,\n",
       " (250, 117): 1259,\n",
       " (107, 77): 1537,\n",
       " (259, 156): 2276,\n",
       " (188, 301): 2043,\n",
       " (92, 224): 2260,\n",
       " (162, 176): 1440,\n",
       " (312, 134): 2217,\n",
       " (89, 98): 1554,\n",
       " (191, 313): 1348,\n",
       " (85, 273): 782,\n",
       " (96, 161): 2066,\n",
       " (260, 93): 2290,\n",
       " (151, 197): 2605}"
      ]
     },
     "execution_count": 50,
     "metadata": {},
     "output_type": "execute_result"
    }
   ],
   "source": [
    "finite_coords"
   ]
  },
  {
   "cell_type": "code",
   "execution_count": 58,
   "metadata": {},
   "outputs": [],
   "source": [
    "# part b\n",
    "\n",
    "thresh = 10000\n",
    "\n",
    "def total_man(test_coord, coords):\n",
    "    man = []\n",
    "    for coord in coords:\n",
    "        man.append(manhattan_distance(coord, test_coord))\n",
    "    return sum(man)\n",
    "\n",
    "safe = []\n",
    "\n",
    "q = []\n",
    "seen = set()\n",
    "\n",
    "first = coords[3]\n",
    "q.append(first)\n",
    "seen.add(first)\n",
    "\n",
    "def add_if_not_seen(seen, coord, q):\n",
    "    if not coord in seen:\n",
    "        seen.add(coord)\n",
    "        q.append(coord)\n",
    "\n",
    "while len(q) > 0:\n",
    "    coord = q.pop()\n",
    "    \n",
    "    if total_man(coord, coords) < thresh:\n",
    "        safe.append(coord)\n",
    "        \n",
    "        add_if_not_seen(seen, (coord[0] - 1, coord[1]), q)\n",
    "        add_if_not_seen(seen, (coord[0] + 1, coord[1]), q)\n",
    "        add_if_not_seen(seen, (coord[0], coord[1] - 1), q)\n",
    "        add_if_not_seen(seen, (coord[0], coord[1] + 1), q)"
   ]
  },
  {
   "cell_type": "code",
   "execution_count": 60,
   "metadata": {},
   "outputs": [
    {
     "data": {
      "text/plain": [
       "42123"
      ]
     },
     "execution_count": 60,
     "metadata": {},
     "output_type": "execute_result"
    }
   ],
   "source": [
    "len(safe)"
   ]
  },
  {
   "cell_type": "code",
   "execution_count": null,
   "metadata": {},
   "outputs": [],
   "source": []
  }
 ],
 "metadata": {
  "kernelspec": {
   "display_name": "Python 3",
   "language": "python",
   "name": "python3"
  },
  "language_info": {
   "codemirror_mode": {
    "name": "ipython",
    "version": 3
   },
   "file_extension": ".py",
   "mimetype": "text/x-python",
   "name": "python",
   "nbconvert_exporter": "python",
   "pygments_lexer": "ipython3",
   "version": "3.6.5"
  }
 },
 "nbformat": 4,
 "nbformat_minor": 2
}
