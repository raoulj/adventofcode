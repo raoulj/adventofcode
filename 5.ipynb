{
 "cells": [
  {
   "cell_type": "code",
   "execution_count": 1,
   "metadata": {},
   "outputs": [],
   "source": [
    "# Setup work \n",
    "\n",
    "# Get the data\n",
    "import requests\n",
    "r = requests.get('https://adventofcode.com/2018/day/5/input', cookies={\n",
    "    'session': '53616c7465645f5fa2ecece720654838baaaf96bc125b8893c564f010d5ad7a90b3dab0760aef0074c4a7ec162320c3e'\n",
    "})"
   ]
  },
  {
   "cell_type": "code",
   "execution_count": 4,
   "metadata": {},
   "outputs": [],
   "source": [
    "polymer = r.text.replace('\\n', '')"
   ]
  },
  {
   "cell_type": "code",
   "execution_count": 10,
   "metadata": {},
   "outputs": [
    {
     "data": {
      "text/plain": [
       "11194"
      ]
     },
     "execution_count": 10,
     "metadata": {},
     "output_type": "execute_result"
    }
   ],
   "source": [
    "def can_react(c1, c2):\n",
    "    if c1 == c2:\n",
    "        return False\n",
    "    if c1.lower() == c2.lower():\n",
    "        return True\n",
    "    return False\n",
    "\n",
    "def react(s):\n",
    "    new_str = ''\n",
    "    \n",
    "    i = 0\n",
    "    while i < len(s):\n",
    "        if i < len(s) - 1 and can_react(s[i], s[i + 1]):\n",
    "            i += 2\n",
    "        elif len(new_str) > 0 and can_react(s[i], new_str[-1]):\n",
    "            i += 1\n",
    "            new_str = new_str[:-1]\n",
    "        else:\n",
    "            new_str += s[i]\n",
    "            i += 1\n",
    "    return new_str\n",
    "\n",
    "len(react(polymer))"
   ]
  },
  {
   "cell_type": "code",
   "execution_count": 14,
   "metadata": {},
   "outputs": [
    {
     "data": {
      "text/plain": [
       "26"
      ]
     },
     "execution_count": 14,
     "metadata": {},
     "output_type": "execute_result"
    }
   ],
   "source": [
    "#part 2\n",
    "len(set(polymer.lower()))"
   ]
  },
  {
   "cell_type": "code",
   "execution_count": 16,
   "metadata": {},
   "outputs": [],
   "source": [
    "import string\n",
    "\n",
    "char_to_count = []\n",
    "\n",
    "for t in string.ascii_uppercase:\n",
    "    small_polymer = polymer.replace(t, '').replace(t.lower(), '')\n",
    "    char_to_count.append((t, len(react(small_polymer))))"
   ]
  },
  {
   "cell_type": "code",
   "execution_count": 18,
   "metadata": {},
   "outputs": [
    {
     "data": {
      "text/plain": [
       "('C', 4178)"
      ]
     },
     "execution_count": 18,
     "metadata": {},
     "output_type": "execute_result"
    }
   ],
   "source": [
    "min(char_to_count, key=lambda x: x[1])"
   ]
  },
  {
   "cell_type": "code",
   "execution_count": null,
   "metadata": {},
   "outputs": [],
   "source": []
  }
 ],
 "metadata": {
  "kernelspec": {
   "display_name": "Python 3",
   "language": "python",
   "name": "python3"
  },
  "language_info": {
   "codemirror_mode": {
    "name": "ipython",
    "version": 3
   },
   "file_extension": ".py",
   "mimetype": "text/x-python",
   "name": "python",
   "nbconvert_exporter": "python",
   "pygments_lexer": "ipython3",
   "version": "3.6.5"
  }
 },
 "nbformat": 4,
 "nbformat_minor": 2
}
