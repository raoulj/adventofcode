{
 "cells": [
  {
   "cell_type": "code",
   "execution_count": 1,
   "metadata": {},
   "outputs": [],
   "source": [
    "# Setup work \n",
    "\n",
    "# Get the data\n",
    "import requests\n",
    "r = requests.get('https://adventofcode.com/2018/day/4/input', cookies={\n",
    "    'session': '53616c7465645f5fa2ecece720654838baaaf96bc125b8893c564f010d5ad7a90b3dab0760aef0074c4a7ec162320c3e'\n",
    "})"
   ]
  },
  {
   "cell_type": "code",
   "execution_count": 7,
   "metadata": {},
   "outputs": [],
   "source": [
    "series = r.text.split('\\n')[:-1]"
   ]
  },
  {
   "cell_type": "code",
   "execution_count": 31,
   "metadata": {},
   "outputs": [],
   "source": [
    "t = []\n",
    "for event in series:        \n",
    "    splitted = event.split(']')\n",
    "    time_str = splitted[0][1:]\n",
    "    event_name = splitted[1:][0]\n",
    "    \n",
    "    time = datetime.datetime.strptime(time_str, \"%Y-%m-%d %H:%M\")\n",
    "    \n",
    "    t.append((time, event_name))\n",
    "log = sorted(t, key=lambda x: x[0])"
   ]
  },
  {
   "cell_type": "code",
   "execution_count": 58,
   "metadata": {},
   "outputs": [
    {
     "data": {
      "text/plain": [
       "dict_items([('#2797', 425.0), ('#2267', 394.0), ('#79', 400.0), ('#1709', 204.0), ('#277', 474.0), ('#3511', 330.0), ('#2663', 313.0), ('#2689', 303.0), ('#2251', 531.0), ('#1499', 496.0), ('#2153', 375.0), ('#2377', 523.0), ('#631', 434.0), ('#2137', 326.0), ('#1259', 293.0), ('#983', 126.0), ('#2083', 345.0), ('#563', 279.0), ('#2591', 164.0), ('#3541', 153.0)])"
      ]
     },
     "execution_count": 58,
     "metadata": {},
     "output_type": "execute_result"
    }
   ],
   "source": [
    "id_to_minutes_slept = {}\n",
    "\n",
    "guard = False\n",
    "start_time = False\n",
    "\n",
    "for time, event_name in log:        \n",
    "    if \"Guard\" in event_name:\n",
    "        guard = event_name.split(' ')[2]\n",
    "    elif \"falls asleep\" in event_name:\n",
    "        start_time = time\n",
    "    elif \"wakes up\" in event_name:\n",
    "        delta = time - start_time\n",
    "        minutes = delta.seconds / 60\n",
    "        \n",
    "        if not guard in id_to_minutes_slept:\n",
    "            id_to_minutes_slept[guard] = minutes\n",
    "        else:\n",
    "            id_to_minutes_slept[guard] += minutes"
   ]
  },
  {
   "cell_type": "code",
   "execution_count": 62,
   "metadata": {},
   "outputs": [
    {
     "data": {
      "text/plain": [
       "('#2251', 531.0)"
      ]
     },
     "execution_count": 62,
     "metadata": {},
     "output_type": "execute_result"
    }
   ],
   "source": [
    "max(list(id_to_minutes_slept.items()), key=lambda x: x[1])"
   ]
  },
  {
   "cell_type": "code",
   "execution_count": 102,
   "metadata": {},
   "outputs": [
    {
     "data": {
      "text/plain": [
       "(42, 16)"
      ]
     },
     "execution_count": 102,
     "metadata": {},
     "output_type": "execute_result"
    }
   ],
   "source": [
    "minutes_slept = {}\n",
    "\n",
    "for time, event_name in log:\n",
    "    if \"Guard\" in event_name:\n",
    "        guard = event_name.split(' ')[2]\n",
    "    elif \"falls asleep\" in event_name:\n",
    "        start_time = time\n",
    "    elif \"wakes up\" in event_name:\n",
    "        if guard != \"#2251\":\n",
    "            continue\n",
    "            \n",
    "        delta = time - start_time\n",
    "        minutes = delta.seconds / 60\n",
    "        \n",
    "        for i in range(int(minutes)):\n",
    "            minute = (start_time.minute + i)\n",
    "            if minute in minutes_slept:\n",
    "                minutes_slept[minute] += 1\n",
    "            else:\n",
    "                minutes_slept[minute] = 1\n",
    "max(list(minutes_slept.items()), key=lambda x: x[1])"
   ]
  },
  {
   "cell_type": "code",
   "execution_count": 103,
   "metadata": {},
   "outputs": [
    {
     "data": {
      "text/plain": [
       "94542"
      ]
     },
     "execution_count": 103,
     "metadata": {},
     "output_type": "execute_result"
    }
   ],
   "source": [
    "42 * 2251"
   ]
  },
  {
   "cell_type": "code",
   "execution_count": 115,
   "metadata": {},
   "outputs": [],
   "source": [
    "#part b\n",
    "\n",
    "minutes_slept = {}\n",
    "\n",
    "for time, event_name in log:\n",
    "    if \"Guard\" in event_name:\n",
    "        guard = event_name.split(' ')[2]\n",
    "        if not guard in minutes_slept:\n",
    "            minutes_slept[guard] = {minute: 0 for minute in range(60)}\n",
    "        \n",
    "    elif \"falls asleep\" in event_name:\n",
    "        start_time = time\n",
    "    elif \"wakes up\" in event_name:\n",
    "        delta = time - start_time\n",
    "        minutes = delta.seconds / 60\n",
    "        \n",
    "        slept = minutes_slept[guard]\n",
    "        \n",
    "        for i in range(int(minutes)):\n",
    "            minute = (start_time.minute + i)\n",
    "            if minute in slept:\n",
    "                slept[minute] += 1\n",
    "            else:\n",
    "                slept[minute] = 1\n",
    "\n",
    "guard_to_sleepiest_minutes = {}\n",
    "for k, v in minutes_slept.items():\n",
    "    guard_to_sleepiest_minutes[k] = max(list(v.items()), key=lambda x: x[1])"
   ]
  },
  {
   "cell_type": "code",
   "execution_count": 116,
   "metadata": {},
   "outputs": [
    {
     "data": {
      "text/plain": [
       "{'#2797': (43, 12),\n",
       " '#2267': (16, 11),\n",
       " '#79': (40, 11),\n",
       " '#1709': (13, 5),\n",
       " '#277': (38, 15),\n",
       " '#3511': (37, 11),\n",
       " '#2663': (31, 10),\n",
       " '#2689': (28, 9),\n",
       " '#2251': (42, 16),\n",
       " '#1499': (34, 19),\n",
       " '#2153': (43, 11),\n",
       " '#2377': (31, 14),\n",
       " '#631': (47, 13),\n",
       " '#1109': (0, 0),\n",
       " '#2137': (40, 10),\n",
       " '#1259': (36, 9),\n",
       " '#983': (44, 6),\n",
       " '#2083': (38, 11),\n",
       " '#563': (24, 8),\n",
       " '#2591': (9, 5),\n",
       " '#2713': (0, 0),\n",
       " '#3541': (39, 5),\n",
       " '#3079': (0, 0)}"
      ]
     },
     "execution_count": 116,
     "metadata": {},
     "output_type": "execute_result"
    }
   ],
   "source": [
    "guard_to_sleepiest_minutes"
   ]
  },
  {
   "cell_type": "code",
   "execution_count": 117,
   "metadata": {},
   "outputs": [
    {
     "data": {
      "text/plain": [
       "50966"
      ]
     },
     "execution_count": 117,
     "metadata": {},
     "output_type": "execute_result"
    }
   ],
   "source": [
    "1499 * 34"
   ]
  },
  {
   "cell_type": "code",
   "execution_count": null,
   "metadata": {},
   "outputs": [],
   "source": []
  }
 ],
 "metadata": {
  "kernelspec": {
   "display_name": "Python 3",
   "language": "python",
   "name": "python3"
  },
  "language_info": {
   "codemirror_mode": {
    "name": "ipython",
    "version": 3
   },
   "file_extension": ".py",
   "mimetype": "text/x-python",
   "name": "python",
   "nbconvert_exporter": "python",
   "pygments_lexer": "ipython3",
   "version": "3.6.5"
  }
 },
 "nbformat": 4,
 "nbformat_minor": 2
}
