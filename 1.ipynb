{
 "cells": [
  {
   "cell_type": "code",
   "execution_count": 1,
   "metadata": {},
   "outputs": [],
   "source": [
    "# Setup work \n",
    "\n",
    "# Get the data\n",
    "import requests\n",
    "r = requests.get('https://adventofcode.com/2018/day/1/input', cookies={\n",
    "    'session': ''\n",
    "})\n",
    "\n",
    "# Do some post processing\n",
    "valid_numbers = r.text.split('\\n')[:-1]\n",
    "numbers = list(map(lambda x: int(x), valid_numbers))"
   ]
  },
  {
   "cell_type": "code",
   "execution_count": 2,
   "metadata": {},
   "outputs": [
    {
     "data": {
      "text/plain": [
       "574"
      ]
     },
     "execution_count": 2,
     "metadata": {},
     "output_type": "execute_result"
    }
   ],
   "source": [
    "#part 1\n",
    "sum(numbers)"
   ]
  },
  {
   "cell_type": "code",
   "execution_count": 3,
   "metadata": {},
   "outputs": [],
   "source": [
    "#part 2\n",
    "def getPartialSums(nums):\n",
    "    acc = 0\n",
    "    partials = []\n",
    "    \n",
    "    for n in nums:\n",
    "        acc += n\n",
    "        partials.append(acc)\n",
    "    return partials\n",
    "\n",
    "def getFirstRecurringPartialSum(partialSums):\n",
    "    acc = 0\n",
    "    seen = set()\n",
    "    \n",
    "    seen.add(acc)\n",
    "    \n",
    "    while True:\n",
    "        for n in partialSums:\n",
    "            temp = acc + n\n",
    "            if temp in seen:\n",
    "                return temp\n",
    "            seen.add(temp)\n",
    "        acc = temp"
   ]
  },
  {
   "cell_type": "code",
   "execution_count": 4,
   "metadata": {},
   "outputs": [],
   "source": [
    "sums = getPartialSums(numbers)"
   ]
  },
  {
   "cell_type": "code",
   "execution_count": 5,
   "metadata": {},
   "outputs": [
    {
     "data": {
      "text/plain": [
       "452"
      ]
     },
     "execution_count": 5,
     "metadata": {},
     "output_type": "execute_result"
    }
   ],
   "source": [
    "getFirstRecurringPartialSum(sums)"
   ]
  },
  {
   "cell_type": "code",
   "execution_count": null,
   "metadata": {},
   "outputs": [],
   "source": []
  }
 ],
 "metadata": {
  "kernelspec": {
   "display_name": "Python 3",
   "language": "python",
   "name": "python3"
  },
  "language_info": {
   "codemirror_mode": {
    "name": "ipython",
    "version": 3
   },
   "file_extension": ".py",
   "mimetype": "text/x-python",
   "name": "python",
   "nbconvert_exporter": "python",
   "pygments_lexer": "ipython3",
   "version": "3.6.5"
  }
 },
 "nbformat": 4,
 "nbformat_minor": 2
}
