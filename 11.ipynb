{
 "cells": [
  {
   "cell_type": "code",
   "execution_count": 1,
   "metadata": {},
   "outputs": [],
   "source": [
    "# Setup work \n",
    "\n",
    "# Get the data\n",
    "grid_serial_number = 5791;"
   ]
  },
  {
   "cell_type": "code",
   "execution_count": 2,
   "metadata": {},
   "outputs": [],
   "source": [
    "def get_powerlevel(i, j, serial):\n",
    "    rack_id = (i + 10) \n",
    "    power_level = rack_id * j + serial\n",
    "    power_level *= rack_id\n",
    "    \n",
    "    return (power_level // 100 % 10) - 5"
   ]
  },
  {
   "cell_type": "code",
   "execution_count": 13,
   "metadata": {},
   "outputs": [],
   "source": [
    "def get_power_grid():\n",
    "    grid = []\n",
    "    for x in range(300):\n",
    "        row = []\n",
    "        for y in range(300):\n",
    "            row.append(get_powerlevel(x,y, grid_serial_number))\n",
    "        grid.append(row)\n",
    "    return grid\n",
    "\n",
    "cache = {}\n",
    "def get_square_powers(grid, n):\n",
    "    sums = []\n",
    "    for x in range(len(grid) - n + 1):\n",
    "        row = []\n",
    "        for y in range(len(grid) - n + 1):\n",
    "            cum = 0\n",
    "            \n",
    "            if not (x,y) in cache:\n",
    "                for i in range(n):\n",
    "                    for j in range(n):\n",
    "                        cum += grid[x + i][y + j]\n",
    "            else:\n",
    "                cum = cache[x,y]\n",
    "                for i in range(n - 1):\n",
    "                    cum += grid[x + i][y + n - 1]\n",
    "                for j in range(n):\n",
    "                    cum += grid[x + n - 1][y + j]\n",
    "            cache[x, y] = cum\n",
    "            row.append((cum, x, y))\n",
    "        sums.append(row)\n",
    "    return sums\n"
   ]
  },
  {
   "cell_type": "code",
   "execution_count": 14,
   "metadata": {},
   "outputs": [
    {
     "name": "stdout",
     "output_type": "stream",
     "text": [
      "0\n",
      "25\n",
      "50\n",
      "75\n",
      "100\n",
      "125\n",
      "150\n",
      "175\n",
      "200\n",
      "225\n",
      "250\n",
      "275\n"
     ]
    },
    {
     "data": {
      "text/plain": [
       "(111, 231, 273, 16)"
      ]
     },
     "execution_count": 14,
     "metadata": {},
     "output_type": "execute_result"
    }
   ],
   "source": [
    "def get_max_for_square_size(grid, n):\n",
    "    squares = get_square_powers(grid, n)\n",
    "    best = max(max(x) for x in squares)\n",
    "    return (best[0], best[1], best[2], n)\n",
    "\n",
    "maxes = []\n",
    "grid = get_power_grid()\n",
    "for i in range(300):\n",
    "    if (i % 25 == 0): \n",
    "        print(i)\n",
    "    maxes.append(get_max_for_square_size(grid, i + 1))\n",
    "max(maxes)"
   ]
  },
  {
   "cell_type": "code",
   "execution_count": null,
   "metadata": {},
   "outputs": [],
   "source": [
    "    "
   ]
  },
  {
   "cell_type": "code",
   "execution_count": null,
   "metadata": {},
   "outputs": [],
   "source": []
  }
 ],
 "metadata": {
  "kernelspec": {
   "display_name": "Python 3",
   "language": "python",
   "name": "python3"
  },
  "language_info": {
   "codemirror_mode": {
    "name": "ipython",
    "version": 3
   },
   "file_extension": ".py",
   "mimetype": "text/x-python",
   "name": "python",
   "nbconvert_exporter": "python",
   "pygments_lexer": "ipython3",
   "version": "3.6.5"
  }
 },
 "nbformat": 4,
 "nbformat_minor": 2
}
